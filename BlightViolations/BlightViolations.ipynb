{
 "cells": [
  {
   "cell_type": "markdown",
   "metadata": {},
   "source": [
    "# Blight violations Analysis"
   ]
  },
  {
   "cell_type": "code",
   "execution_count": 2,
   "metadata": {},
   "outputs": [],
   "source": [
    "import pandas as pd\n",
    "import numpy as np"
   ]
  },
  {
   "cell_type": "code",
   "execution_count": 3,
   "metadata": {},
   "outputs": [],
   "source": [
    "# Read the data form .csv file\n",
    "DataFrame = pd.DataFrame(pd.read_csv('Blight_Violations.csv', low_memory = False))\n",
    "\n",
    "#Adding a compliance variable that is the predictive variable\n",
    "DataFrame['compliance'] = np.zeros(len(DataFrame), dtype = int)"
   ]
  },
  {
   "cell_type": "code",
   "execution_count": 15,
   "metadata": {},
   "outputs": [
    {
     "data": {
      "text/plain": [
       "Ticket ID                                 int64\n",
       "Ticket Number                            object\n",
       "Agency Name                              object\n",
       "Inspector Name                           object\n",
       "Violator Name                            object\n",
       "Violator ID                               int64\n",
       "Violation Street Number                   int64\n",
       "Violation Street Name                    object\n",
       "Violation Zip Code                       object\n",
       "Mailing Address Street Number            object\n",
       "Mailing Address Street Name              object\n",
       "Mailing Address City                     object\n",
       "Mailing Address State                    object\n",
       "Mailing Address Zip Code                 object\n",
       "Mailing Address Non-USA Code             object\n",
       "Mailing Address Country                  object\n",
       "Violation Date                           object\n",
       "Ticket Issued Time                       object\n",
       "Hearing Date                             object\n",
       "Hearing Time                             object\n",
       "Violation Code                           object\n",
       "Violation Description                    object\n",
       "Disposition                              object\n",
       "Fine Amount                              object\n",
       "Admin Fee                                object\n",
       "State Fee                                object\n",
       "Late Fee                                 object\n",
       "Discount Amount                          object\n",
       "Clean Up Cost                            object\n",
       "Judgment Amount (Total Due)              object\n",
       "Payment Amount (Sum of All Payments)     object\n",
       "Balance Due                              object\n",
       "Payment Date (Most Recent)               object\n",
       "Payment Status                           object\n",
       "Collection Status                        object\n",
       "Violation Address                        object\n",
       "Violation Parcel ID                      object\n",
       "Violation Latitude                      float64\n",
       "Violation Longitude                     float64\n",
       "Violation Location                       object\n",
       "compliance                                int64\n",
       "dtype: object"
      ]
     },
     "execution_count": 15,
     "metadata": {},
     "output_type": "execute_result"
    }
   ],
   "source": [
    "DataFrame.dtypes"
   ]
  },
  {
   "cell_type": "markdown",
   "metadata": {},
   "source": [
    "### Data cleanup"
   ]
  },
  {
   "cell_type": "code",
   "execution_count": 21,
   "metadata": {},
   "outputs": [],
   "source": [
    "# Generate a compliance variable that would be the predictive variable\n",
    "\n",
    "def featureCleanup(DF):\n",
    "    #drop the columns that do not provide additional information\n",
    "    DF.drop(['Ticket Number'], axis = 1, inplace = True)\n",
    "    DF.drop(['Violator Name'], axis = 1, inplace = True)\n",
    "    DF.drop(['Violation Location'], axis =1, inplace = True)\n",
    "    DF.drop(['Violation Parcel ID'], axis =1, inplace = True) \n",
    "    DF.drop(['Payment Date (Most Recent)'], axis = 1, inplace = True)\n",
    "    # Drop the rows that have a disposition declaring not responsible for some reason\n",
    "    DF.drop(DF.loc[DataFrame['Disposition'].str[:3]=='Not'].index, inplace = True)\n",
    "    #Drop the rows that have Disposition PENDING\n",
    "    DF.drop(DF.loc[DataFrame['Disposition']=='PENDING'].index, inplace = True)\n",
    "    \n",
    "    #Replace all NaN in each column with 0\n",
    "    for col in DF.columns:\n",
    "        if(DF[col].dtypes == 'object'):\n",
    "            DF.loc[DF[col].isnull(),col] = '0.0'\n",
    "        if(DF[col].dtypes == 'int64'):\n",
    "            DF.loc[DF[col].isnull(),col] = 0            \n",
    "        if(DF[col].dtypes == 'float64'):\n",
    "            DF.loc[DF[col].isnull(),col] = 0       \n",
    "           \n",
    "\n",
    "    columnList = [item for item in DF.columns if(('Amount' in item)|('Fee' in item)|('Cost' in item)|('Balance' in item))]\n",
    "    #convert dtypes appropirately  \n",
    "    \n",
    "    # Money columns\n",
    "    for col in columnList:\n",
    "        if(DF[col].dtypes == 'object'):\n",
    "            print(col)\n",
    "            DF[col] = DF.loc[DF[col].str[0]=='$',col].str[1:].astype(np.float64)\n",
    "            \n",
    "    DF.drop(DF.loc[DF['Violation Date'].str[-4:]=='3016'].index, inplace = True)\n",
    "    DF['Violation Date'] = pd.to_datetime(DF['Violation Date'])\n",
    "    DF['Violation Date'] = DF['Violation Date'] - DF['Violation Date'].min()\n",
    "    \n",
    "    return DF\n",
    "    "
   ]
  },
  {
   "cell_type": "markdown",
   "metadata": {},
   "source": [
    "### Populate Compliance variable (Predictive variable)"
   ]
  },
  {
   "cell_type": "code",
   "execution_count": null,
   "metadata": {},
   "outputs": [],
   "source": [
    "def populateCompliance(DF):\n",
    "    #if payment status is 'Paid in full' then compliance is 0\n",
    "    DF.loc[DF['Collection Status']== 'In collections', 'compliance'] = 1\n",
    "    DF.loc[DF['Payment Status']=='NO PAYMENT DUE' ,'compliance'] = 0    "
   ]
  },
  {
   "cell_type": "code",
   "execution_count": 22,
   "metadata": {},
   "outputs": [
    {
     "name": "stdout",
     "output_type": "stream",
     "text": [
      "Fine Amount\n",
      "Admin Fee\n",
      "State Fee\n",
      "Late Fee\n",
      "Discount Amount\n",
      "Clean Up Cost\n",
      "Judgment Amount (Total Due)\n",
      "Payment Amount (Sum of All Payments)\n",
      "Balance Due\n"
     ]
    }
   ],
   "source": [
    "DataFrameCpy = DataFrame.copy()\n",
    "DF = featureCleanup(DataFrameCpy)\n",
    "#populateCompliance(DF)\n"
   ]
  },
  {
   "cell_type": "code",
   "execution_count": 18,
   "metadata": {},
   "outputs": [
    {
     "data": {
      "text/plain": [
       "Ticket ID                                        int64\n",
       "Agency Name                                     object\n",
       "Inspector Name                                  object\n",
       "Violator ID                                      int64\n",
       "Violation Street Number                          int64\n",
       "Violation Street Name                           object\n",
       "Violation Zip Code                              object\n",
       "Mailing Address Street Number                   object\n",
       "Mailing Address Street Name                     object\n",
       "Mailing Address City                            object\n",
       "Mailing Address State                           object\n",
       "Mailing Address Zip Code                        object\n",
       "Mailing Address Non-USA Code                    object\n",
       "Mailing Address Country                         object\n",
       "Violation Date                          datetime64[ns]\n",
       "Ticket Issued Time                              object\n",
       "Hearing Date                                    object\n",
       "Hearing Time                                    object\n",
       "Violation Code                                  object\n",
       "Violation Description                           object\n",
       "Disposition                                     object\n",
       "Fine Amount                                    float64\n",
       "Admin Fee                                      float64\n",
       "State Fee                                      float64\n",
       "Late Fee                                       float64\n",
       "Discount Amount                                float64\n",
       "Clean Up Cost                                  float64\n",
       "Judgment Amount (Total Due)                    float64\n",
       "Payment Amount (Sum of All Payments)           float64\n",
       "Balance Due                                    float64\n",
       "Payment Status                                  object\n",
       "Collection Status                               object\n",
       "Violation Address                               object\n",
       "Violation Latitude                             float64\n",
       "Violation Longitude                            float64\n",
       "compliance                                       int64\n",
       "dtype: object"
      ]
     },
     "execution_count": 18,
     "metadata": {},
     "output_type": "execute_result"
    }
   ],
   "source": [
    "DF.dtypes"
   ]
  },
  {
   "cell_type": "code",
   "execution_count": 63,
   "metadata": {},
   "outputs": [],
   "source": [
    "DF['Violation Date'] = DF['Violation Date'] - DF['Violation Date'].min()"
   ]
  },
  {
   "cell_type": "code",
   "execution_count": 65,
   "metadata": {},
   "outputs": [
    {
     "data": {
      "text/plain": [
       "Timedelta('0 days 00:00:00')"
      ]
     },
     "execution_count": 65,
     "metadata": {},
     "output_type": "execute_result"
    }
   ],
   "source": [
    "DF['Violation Date'].min()\n"
   ]
  },
  {
   "cell_type": "code",
   "execution_count": 62,
   "metadata": {},
   "outputs": [],
   "source": []
  },
  {
   "cell_type": "code",
   "execution_count": 30,
   "metadata": {},
   "outputs": [
    {
     "data": {
      "text/plain": [
       "Timestamp('2006-02-15 00:00:00')"
      ]
     },
     "execution_count": 30,
     "metadata": {},
     "output_type": "execute_result"
    }
   ],
   "source": [
    "pd.to_datetime(DF['Payment Date (Most Recent)'][6])"
   ]
  },
  {
   "cell_type": "code",
   "execution_count": 32,
   "metadata": {},
   "outputs": [
    {
     "data": {
      "text/plain": [
       "69050"
      ]
     },
     "execution_count": 32,
     "metadata": {},
     "output_type": "execute_result"
    }
   ],
   "source": [
    "len(DF.loc[DF['Payment Date (Most Recent)'] != '0.0'])"
   ]
  },
  {
   "cell_type": "code",
   "execution_count": 5,
   "metadata": {},
   "outputs": [
    {
     "name": "stdout",
     "output_type": "stream",
     "text": [
      "[nan 'Not responsible by City Dismissal' 'Not responsible by Determination'\n",
      " 'Not responsible by Dismissal' 'PENDING'\n",
      " 'Responsible (Fine Waived) by Admission'\n",
      " 'Responsible (Fine Waived) by City Dismissal'\n",
      " 'Responsible (Fine Waived) by Determination'\n",
      " 'Responsible - Compl/Adj by Default'\n",
      " 'Responsible - Compl/Adj by Determination']\n"
     ]
    },
    {
     "name": "stderr",
     "output_type": "stream",
     "text": [
      "/usr/local/lib/python2.7/dist-packages/numpy/lib/arraysetops.py:200: FutureWarning: numpy not_equal will not check object identity in the future. The comparison did not return the same result as suggested by the identity (`is`)) and will change.\n",
      "  flag = np.concatenate(([True], aux[1:] != aux[:-1]))\n"
     ]
    }
   ],
   "source": [
    "print(np.unique(DataFrame['Disposition'])[:10])"
   ]
  },
  {
   "cell_type": "code",
   "execution_count": 7,
   "metadata": {},
   "outputs": [
    {
     "data": {
      "text/plain": [
       "246832"
      ]
     },
     "execution_count": 7,
     "metadata": {},
     "output_type": "execute_result"
    }
   ],
   "source": [
    "len(DataFrame)-len(DataFrame.loc[DataFrame['Disposition'].str[:3]=='Not'])"
   ]
  },
  {
   "cell_type": "code",
   "execution_count": 13,
   "metadata": {},
   "outputs": [
    {
     "data": {
      "text/plain": [
       "Int64Index([   1,    3,    4,    5,    7,    9,   10,   12,   15,   16,\n",
       "            ...\n",
       "            9501, 9502, 9503, 9504, 9507, 9508, 9509, 9510, 9511, 9512],\n",
       "           dtype='int64', length=1000)"
      ]
     },
     "execution_count": 13,
     "metadata": {},
     "output_type": "execute_result"
    }
   ],
   "source": [
    "DataFrame.loc[DataFrame['Disposition'].str[:3]=='Not','Balance Due'].index[:1000]"
   ]
  },
  {
   "cell_type": "code",
   "execution_count": 20,
   "metadata": {},
   "outputs": [
    {
     "data": {
      "text/plain": [
       "785"
      ]
     },
     "execution_count": 20,
     "metadata": {},
     "output_type": "execute_result"
    }
   ],
   "source": [
    "len(DataFrame.loc[DataFrame['Disposition']=='PENDING'])"
   ]
  },
  {
   "cell_type": "code",
   "execution_count": null,
   "metadata": {},
   "outputs": [],
   "source": []
  }
 ],
 "metadata": {
  "kernelspec": {
   "display_name": "Python 2",
   "language": "python",
   "name": "python2"
  },
  "language_info": {
   "codemirror_mode": {
    "name": "ipython",
    "version": 2
   },
   "file_extension": ".py",
   "mimetype": "text/x-python",
   "name": "python",
   "nbconvert_exporter": "python",
   "pygments_lexer": "ipython2",
   "version": "2.7.12"
  }
 },
 "nbformat": 4,
 "nbformat_minor": 2
}
