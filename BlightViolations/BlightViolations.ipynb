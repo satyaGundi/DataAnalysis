{
 "cells": [
  {
   "cell_type": "markdown",
   "metadata": {},
   "source": [
    "# Blight violations Analysis"
   ]
  },
  {
   "cell_type": "code",
   "execution_count": 2,
   "metadata": {},
   "outputs": [],
   "source": [
    "import pandas as pd\n",
    "import numpy as np"
   ]
  },
  {
   "cell_type": "code",
   "execution_count": 3,
   "metadata": {},
   "outputs": [],
   "source": [
    "# Read the data form .csv file\n",
    "DataFrame = pd.DataFrame(pd.read_csv('Blight_Violations.csv', low_memory = False))\n",
    "#DataFrame.columns\n",
    "#ataFrame.dtypes"
   ]
  },
  {
   "cell_type": "markdown",
   "metadata": {},
   "source": [
    "### Data cleanup"
   ]
  },
  {
   "cell_type": "code",
   "execution_count": 4,
   "metadata": {},
   "outputs": [
    {
     "name": "stdout",
     "output_type": "stream",
     "text": [
      "Judgment Amount (Total Due)\n",
      "Balance Due\n",
      "Violation Latitude\n",
      "Violation Longitude\n"
     ]
    }
   ],
   "source": [
    "# Generate a compliance variable that would be the predictive variable\n",
    "\n",
    "def featureCleanup(DF):\n",
    "    #drop the columns\n",
    "    DF.drop(['Ticket Number'], axis = 1, inplace = True)\n",
    "    DF.drop(['Violator Name'], axis = 1, inplace = True)\n",
    "    DF.drop(['Violation Location'], axis =1, inplace = True)\n",
    "    \n",
    "    #convert dtypes appropirately    \n",
    "    DF['Balance Due'] = DF['Balance Due'].str[1:].astype(np.float64)\n",
    "    DF['Judgment Amount (Total Due)'] = DF['Judgment Amount (Total Due)'].str[1:].astype(np.float64)    \n",
    "    \n",
    "    #Remove all NaN in each column with 0\n",
    "    for col in DF.columns:\n",
    "        if(DF[col].dtypes == 'object'):\n",
    "            DF.loc[DF[col].isnull(),col] = '0'\n",
    "        if(DF[col].dtypes == 'int64'):\n",
    "            DF.loc[DF[col].isnull(),col] = 0            \n",
    "        if(DF[col].dtypes == 'float64'):\n",
    "            print(col)\n",
    "            DF.loc[DF[col].isnull(),col] = 0.0            \n",
    " \n",
    "    return DF\n",
    "\n",
    "DF = featureCleanup(DataFrame)\n",
    "\n",
    "\n",
    "\n",
    "\n",
    "\n",
    "    "
   ]
  },
  {
   "cell_type": "code",
   "execution_count": 38,
   "metadata": {},
   "outputs": [
    {
     "data": {
      "text/html": [
       "<div>\n",
       "<table border=\"1\" class=\"dataframe\">\n",
       "  <thead>\n",
       "    <tr style=\"text-align: right;\">\n",
       "      <th></th>\n",
       "      <th>Balance Due</th>\n",
       "      <th>Judgement Amount (Total Due)</th>\n",
       "    </tr>\n",
       "  </thead>\n",
       "  <tbody>\n",
       "    <tr>\n",
       "      <th>6</th>\n",
       "      <td>0</td>\n",
       "      <td>NaN</td>\n",
       "    </tr>\n",
       "    <tr>\n",
       "      <th>7</th>\n",
       "      <td>0</td>\n",
       "      <td>NaN</td>\n",
       "    </tr>\n",
       "    <tr>\n",
       "      <th>8</th>\n",
       "      <td>0</td>\n",
       "      <td>NaN</td>\n",
       "    </tr>\n",
       "    <tr>\n",
       "      <th>31</th>\n",
       "      <td>0</td>\n",
       "      <td>NaN</td>\n",
       "    </tr>\n",
       "    <tr>\n",
       "      <th>83</th>\n",
       "      <td>0</td>\n",
       "      <td>NaN</td>\n",
       "    </tr>\n",
       "  </tbody>\n",
       "</table>\n",
       "</div>"
      ],
      "text/plain": [
       "    Balance Due  Judgement Amount (Total Due)\n",
       "6             0                           NaN\n",
       "7             0                           NaN\n",
       "8             0                           NaN\n",
       "31            0                           NaN\n",
       "83            0                           NaN"
      ]
     },
     "execution_count": 38,
     "metadata": {},
     "output_type": "execute_result"
    }
   ],
   "source": [
    "DF.loc[DF['Balance Due']!=DF['Judgment Amount (Total Due)'], ['Balance Due', 'Judgement Amount (Total Due)']].head()\n",
    "#DF['Judgment Amount (Total Due)'].dtypes"
   ]
  },
  {
   "cell_type": "code",
   "execution_count": 22,
   "metadata": {},
   "outputs": [
    {
     "name": "stdout",
     "output_type": "stream",
     "text": [
      "['0' 'NO PAYMENT APPLIED' 'NO PAYMENT DUE' 'PAID IN FULL'\n",
      " 'PARTIAL PAYMENT APPLIED']\n"
     ]
    }
   ],
   "source": [
    "def populateCompliance(DF):\n",
    "    #if payment status is 'Paid in full' then compliance is 0\n",
    "    DF.loc[DF['Payment Status']=='PAID IN FULL','Compliance'] = 0\n",
    "    DF.loc[DF['Payment Status']=='NO PAYMENT DUE' ,'Compliance'] = 0    \n",
    "    \n",
    "print(np.unique(DF['Payment Status']))"
   ]
  },
  {
   "cell_type": "code",
   "execution_count": null,
   "metadata": {},
   "outputs": [],
   "source": []
  }
 ],
 "metadata": {
  "kernelspec": {
   "display_name": "Python 2",
   "language": "python",
   "name": "python2"
  },
  "language_info": {
   "codemirror_mode": {
    "name": "ipython",
    "version": 2
   },
   "file_extension": ".py",
   "mimetype": "text/x-python",
   "name": "python",
   "nbconvert_exporter": "python",
   "pygments_lexer": "ipython2",
   "version": "2.7.10"
  }
 },
 "nbformat": 4,
 "nbformat_minor": 2
}
